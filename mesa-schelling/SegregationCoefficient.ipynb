{
 "cells": [
  {
   "cell_type": "code",
   "execution_count": 1,
   "id": "ad3cc38c",
   "metadata": {},
   "outputs": [],
   "source": [
    "import matplotlib.pyplot as plt\n",
    "import numpy as np\n",
    "from scipy.optimize import curve_fit\n",
    "import random\n",
    "\n",
    "%matplotlib inline\n",
    "\n",
    "from model import Schelling"
   ]
  },
  {
   "cell_type": "code",
   "execution_count": 2,
   "id": "9baa995b",
   "metadata": {},
   "outputs": [
    {
     "name": "stdout",
     "output_type": "stream",
     "text": [
      "0.0\n"
     ]
    }
   ],
   "source": [
    "model = Schelling(100, 100, 0.97, 0.0, [0.8, 0.1, 0.1], 3, 10)\n",
    "print(model.total_avg_cluster_size)"
   ]
  },
  {
   "cell_type": "code",
   "execution_count": 3,
   "id": "deb8d547",
   "metadata": {},
   "outputs": [
    {
     "name": "stdout",
     "output_type": "stream",
     "text": [
      "70\n"
     ]
    }
   ],
   "source": [
    "# Running the model for a maximum amount of steps\n",
    "while model.running and model.schedule.steps < 70:\n",
    "    model.step()\n",
    "print(model.schedule.steps)"
   ]
  },
  {
   "cell_type": "code",
   "execution_count": 4,
   "id": "781362d2",
   "metadata": {},
   "outputs": [],
   "source": [
    "def WeightedAverage(model):\n",
    "    \n",
    "    a = 0\n",
    "    maximum_cluster_size = 0\n",
    "    \n",
    "    for i in model.cluster_sizes:\n",
    "        for j in range(len(model.cluster_sizes[i])):\n",
    "            a += model.cluster_sizes[i][j]**2\n",
    "    \n",
    "    s = (model.N/(model.grid.width*model.grid.height*model.density)**2)*a\n",
    "    \n",
    "    return s"
   ]
  },
  {
   "cell_type": "code",
   "execution_count": 5,
   "id": "82780c64",
   "metadata": {},
   "outputs": [
    {
     "data": {
      "text/plain": [
       "2.0508640238069935"
      ]
     },
     "execution_count": 5,
     "metadata": {},
     "output_type": "execute_result"
    }
   ],
   "source": [
    "WeightedAverage(model)"
   ]
  },
  {
   "cell_type": "code",
   "execution_count": 6,
   "id": "8472adbe",
   "metadata": {
    "scrolled": true
   },
   "outputs": [
    {
     "name": "stdout",
     "output_type": "stream",
     "text": [
      "{0: array([8020.]), 1: array([13., 14., 13.]), 2: array([15., 23., 10., 12.])}\n"
     ]
    }
   ],
   "source": [
    "print(model.cluster_sizes)"
   ]
  },
  {
   "cell_type": "code",
   "execution_count": 7,
   "id": "7af32217",
   "metadata": {},
   "outputs": [],
   "source": [
    "def WeightedAveragepopweights(model):\n",
    "    \n",
    "    maximum_cluster_size = 0\n",
    "    S = 0\n",
    "    \n",
    "    for i in model.cluster_sizes:\n",
    "        a = 0\n",
    "        for j in range(len(model.cluster_sizes[i])):\n",
    "            a += model.cluster_sizes[i][j]**2\n",
    "        \n",
    "        S += (1/(model.grid.width*model.grid.height*model.pop_weights[i])**2)*a\n",
    "    \n",
    "    return S/model.N  "
   ]
  },
  {
   "cell_type": "code",
   "execution_count": 8,
   "id": "1861611f",
   "metadata": {},
   "outputs": [
    {
     "data": {
      "text/plain": [
       "0.33551274999999997"
      ]
     },
     "execution_count": 8,
     "metadata": {},
     "output_type": "execute_result"
    }
   ],
   "source": [
    "WeightedAveragepopweights(model)"
   ]
  },
  {
   "cell_type": "code",
   "execution_count": null,
   "id": "792bf40c",
   "metadata": {},
   "outputs": [],
   "source": []
  },
  {
   "cell_type": "code",
   "execution_count": null,
   "id": "a974c1d1",
   "metadata": {},
   "outputs": [],
   "source": []
  },
  {
   "cell_type": "code",
   "execution_count": null,
   "id": "4b47aa54",
   "metadata": {},
   "outputs": [],
   "source": []
  }
 ],
 "metadata": {
  "kernelspec": {
   "display_name": "Python 3 (ipykernel)",
   "language": "python",
   "name": "python3"
  },
  "language_info": {
   "codemirror_mode": {
    "name": "ipython",
    "version": 3
   },
   "file_extension": ".py",
   "mimetype": "text/x-python",
   "name": "python",
   "nbconvert_exporter": "python",
   "pygments_lexer": "ipython3",
   "version": "3.9.13"
  }
 },
 "nbformat": 4,
 "nbformat_minor": 5
}
