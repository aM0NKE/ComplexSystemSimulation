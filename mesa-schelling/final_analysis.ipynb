{
 "cells": [
  {
   "cell_type": "code",
   "execution_count": 1,
   "metadata": {},
   "outputs": [],
   "source": [
    "# Import Libraries\n",
    "import mesa\n",
    "import numpy as np\n",
    "from mpl_toolkits.mplot3d import Axes3D\n",
    "import matplotlib.pyplot as plt\n",
    "import plotly.express as px\n",
    "import plotly.graph_objects as go\n",
    "import pandas as pd\n",
    "from scipy.optimize import curve_fit\n",
    "import random\n",
    "\n",
    "# Import Model\n",
    "from model import Schelling"
   ]
  },
  {
   "cell_type": "markdown",
   "metadata": {},
   "source": [
    "# PART 1: Analysis Techniques"
   ]
  },
  {
   "cell_type": "markdown",
   "metadata": {},
   "source": [
    "## Find the wealth distribution of the USA:\n",
    "We have found that the wealth distribution of the USA closly resembles a log normal distribution [SOURCE]. To test the initial wealth distribution of our agents we have created the function ```test_USA_wealthDist(num_agents, mean, std_dev)```. We used this function to find the appropriate parameters (mean/standard deviation) of the distribution."
   ]
  },
  {
   "cell_type": "code",
   "execution_count": null,
   "metadata": {},
   "outputs": [],
   "source": [
    "def plot_lognormal_dist(num_agents, mean, std_dev):\n",
    "    \"\"\"\n",
    "    Test the distribution of initial wealth of agents\n",
    "    We choose a lognormal distribution for the initial wealth of agents\n",
    "    as it is a good approximation of the distribution of wealth in the USA\n",
    "    \"\"\"\n",
    "\n",
    "    initial_wealth = []\n",
    "    for i in range(num_agents):\n",
    "        initial_wealth.append(np.random.lognormal(mean, std_dev))\n",
    "\n",
    "    # Plotting the distribution\n",
    "    plt.hist(initial_wealth, bins=30, color='#3f60af', edgecolor='black')\n",
    "    plt.xlabel('Amount Wealth')\n",
    "    plt.ylabel('Frequency')\n",
    "    plt.title('Distribution of Initial Wealth')\n",
    "    plt.show()\n",
    "\n",
    "    return initial_wealth\n",
    "\n",
    "def test_USAwealthDist(initial_wealth):\n",
    "    \"\"\"\n",
    "    Tests the distribution of initial wealth of agents and plots the total wealth\n",
    "    owned by each wealth class.\n",
    "    \n",
    "    Args:\n",
    "        num_agents: Number of agents in the model\n",
    "        mean: Mean of the logarithm of the distribution\n",
    "        std_dev: Standard deviation of the logarithm of the distribution\n",
    "    \"\"\"\n",
    "\n",
    "    # Calculate wealth thresholds for different wealth classes\n",
    "    thresholds = np.percentile(initial_wealth, [99, 80, 60, 40, 20])\n",
    "\n",
    "    # Categorize the wealth of each agent into different classes\n",
    "    classes = np.zeros(len(initial_wealth))\n",
    "    classes[initial_wealth >= thresholds[0]] = 5  # Top 1%\n",
    "    classes[(initial_wealth >= thresholds[1]) & (initial_wealth < thresholds[0])] = 4  # Top 20% (excluding top 1%)\n",
    "    classes[(initial_wealth >= thresholds[2]) & (initial_wealth < thresholds[1])] = 3  # Fourth 20%\n",
    "    classes[(initial_wealth >= thresholds[3]) & (initial_wealth < thresholds[2])] = 2  # Middle class\n",
    "    classes[(initial_wealth >= thresholds[4]) & (initial_wealth < thresholds[3])] = 1  # Second 20%\n",
    "    classes[initial_wealth < thresholds[4]] = 0  # Bottom 20%\n",
    "\n",
    "    # Calculate the total wealth owned by each wealth class\n",
    "    wealth_by_class = [np.sum(np.array(initial_wealth)[classes == i]) for i in range(6)]\n",
    "    \n",
    "    # Plotting the total wealth owned by each wealth class\n",
    "    class_labels = ['Bottom 20%', 'Second 20%', 'Middle class', 'Fourth 20%', 'Top 20%', 'Top 1%']\n",
    "    \n",
    "    plt.bar(class_labels, wealth_by_class, color='#dd4f5d', edgecolor='black')\n",
    "    plt.xlabel('Wealth Class')\n",
    "    plt.ylabel('Total Wealth')\n",
    "    plt.title('Distribution of Initial Wealth by Wealth Class')\n",
    "\n",
    "    plt.xticks(rotation=45, ha='right')  # Rotate and align x-axis labels\n",
    "\n",
    "    plt.tight_layout()  # Adjust spacing for better visibility of labels\n",
    "    plt.show()\n",
    "\n",
    "num_agents = 10000\n",
    "mean = 1.0  # Mean of the logarithm of the distribution\n",
    "std_dev = 1.5  # Standard deviation of the logarithm of the distribution\n",
    "initial_wealth = plot_lognormal_dist(num_agents, mean, std_dev)\n",
    "test_USAwealthDist(initial_wealth)\n",
    "print(np.var(initial_wealth) / num_agents)"
   ]
  },
  {
   "cell_type": "markdown",
   "metadata": {},
   "source": [
    "## Spatial visualization of the wealth distribution:\n",
    "We created a 2D heatmap plot, to gain a better understanding of the spatial distribution of wealth over the entire system.\n",
    "In this heatmap, the yellow cells represent the most wealthy agents, and the darker blue cells represent the poorest agents. If a cell has a wealth of 0, you are right to assume that the cell is empty, as an agent's wealth can never be 0. The function ```plot2D_modelWealth()``` plots the spatial wealth distribution, while the function ```plot2D_modelTypes()``` simply plots the spatial distribution of agent types (regular Schelling model)."
   ]
  },
  {
   "cell_type": "code",
   "execution_count": null,
   "metadata": {},
   "outputs": [],
   "source": [
    "def plot2D_modelWealth(model):\n",
    "    \"\"\"\n",
    "    Plots a 2D density heatmap of the model.\n",
    "        x-axis: x position\n",
    "        y-axis: y position\n",
    "        weights: wealth\n",
    "    \"\"\"\n",
    "\n",
    "    # Extract data from model\n",
    "    x_coords = np.array([agent.pos[0] for agent in model.schedule.agents])  # Agent x coords\n",
    "    y_coords = np.array([agent.pos[1] for agent in model.schedule.agents])  # Agent y coords\n",
    "    wealths = np.array([agent.wealth for agent in model.schedule.agents])   # Agent wealths \n",
    "    df = pd.DataFrame({'x_pos': x_coords, 'y_pos': y_coords, 'wealth': wealths})\n",
    "\n",
    "    # Create the 2D density heatmap\n",
    "    fig = px.density_heatmap(df, x='x_pos', y='y_pos', z='wealth', nbinsx=model.size, nbinsy=model.size)\n",
    "\n",
    "    # Set axis labels\n",
    "    fig.update_layout(\n",
    "        height=720, width=720,\n",
    "        xaxis_title='X pos', yaxis_title='Y pos', \n",
    "        coloraxis_colorbar_title='Wealth',\n",
    "        title=f'Spatial wealth distribution (t={model.schedule.steps})'\n",
    "    )\n",
    "\n",
    "    # Show the plot\n",
    "    fig.show()\n",
    "\n",
    "def plot2D_modelTypes(model):\n",
    "    \"\"\"\n",
    "    Plots the model as a 2D scatterplot.\n",
    "        x-axis: x position\n",
    "        y-axis: y position\n",
    "        color: agent type\n",
    "    \"\"\"\n",
    "\n",
    "    # Extract data from model\n",
    "    positions = [agent.pos for agent in model.schedule.agents]\n",
    "    types = [agent.type for agent in model.schedule.agents]\n",
    "\n",
    "    # Create the 2D scatterplot\n",
    "    fig, ax = plt.subplots()\n",
    "    fig.set_size_inches(9, 9)\n",
    "\n",
    "    # Define agent colors\n",
    "    agent_colors = {\n",
    "        0: {'color': '#FF0000', 'label': 'Agent Type 0'},\n",
    "        1: {'color': '#00FF00', 'label': 'Agent Type 1'},\n",
    "        2: {'color': '#0000FF', 'label': 'Agent Type 2'},\n",
    "        3: {'color': '#FFA500', 'label': 'Agent Type 3'},\n",
    "        4: {'color': '#FF00FF', 'label': 'Agent Type 4'},\n",
    "        5: {'color': '#00FFFF', 'label': 'Agent Type 5'},\n",
    "        6: {'color': '#FFFF00', 'label': 'Agent Type 6'},\n",
    "        7: {'color': '#800080', 'label': 'Agent Type 7'},\n",
    "        8: {'color': '#008000', 'label': 'Agent Type 8'},\n",
    "        9: {'color': '#FFC0CB', 'label': 'Agent Type 9'}\n",
    "    }\n",
    "    colors = [agent_colors[agent_type]['color'] for agent_type in types]\n",
    "\n",
    "    ax.scatter(*zip(*positions), color=colors, s=10)\n",
    "    ax.set_title(f'Schelling model (t={model.schedule.steps})', fontsize=10, fontweight='bold')\n",
    "    ax.set_xlabel('X pos', fontsize=10)\n",
    "    ax.set_ylabel('Y pos', fontsize=10)\n",
    "    ax.set_xlim([0, model.size])\n",
    "    ax.set_ylim([0, model.size])\n",
    "\n",
    "    ax.set_xticks([])\n",
    "    ax.set_yticks([])\n",
    "\n",
    "    plt.show()"
   ]
  },
  {
   "cell_type": "markdown",
   "metadata": {},
   "source": [
    "## Wealth distribution over time:\n",
    "To visualize the evolution of wealth distribution during the model simulation, we implemented the function ```wealth_dist_lineplot```. This function creates a simple line plot of the total wealth of each agent type for each time step of the simulation.  "
   ]
  },
  {
   "cell_type": "code",
   "execution_count": null,
   "metadata": {},
   "outputs": [],
   "source": [
    "def wealth_dist_lineplot(model):\n",
    "    \"\"\"\n",
    "    Creates a line plot of the wealth distribution over time.\n",
    "    \"\"\"\n",
    "\n",
    "    # Extract data\n",
    "    wealth_dist = model.datacollector.get_model_vars_dataframe()['wealth_dist']\n",
    "    time = np.arange(len(wealth_dist))\n",
    "\n",
    "    # Define agent colors\n",
    "    agent_colors = {0: '#FF0000', 1: '#00FF00', 2: '#0000FF', 3: '#FFA500', 4: '#FF00FF', 5: '#00FFFF', 6: '#FFFF00', 7: '#800080', 8: \"#008000\", 9: \"#FFC0CB\"}\n",
    "    colors = [agent_colors[agent_type] for agent_type in wealth_dist[0].keys()]\n",
    "\n",
    "    # Creating the line plot\n",
    "    for type in range(model.N):\n",
    "        plt.plot(time, wealth_dist.apply(lambda x: x[type]), label=f'Agent-type {type}', color=colors[type])    \n",
    "\n",
    "    # Adding labels and title\n",
    "    plt.xlabel('Time')\n",
    "    plt.ylabel('Wealth')\n",
    "    plt.title('Wealth distribution over time')\n",
    "    # Adding a legend\n",
    "    plt.legend()\n",
    "    # Displaying the chart\n",
    "    plt.show()"
   ]
  },
  {
   "cell_type": "markdown",
   "metadata": {},
   "source": [
    "## Wealth distribution for each agent type:"
   ]
  },
  {
   "cell_type": "code",
   "execution_count": null,
   "metadata": {},
   "outputs": [],
   "source": [
    "def wealth_dist_histograms(model):\n",
    "    \"\"\"\n",
    "    Creates wealth distribution histograms over time for each agent type.\n",
    "    \"\"\"\n",
    "\n",
    "    # Extract data\n",
    "    wealth_dist = model.datacollector.get_model_vars_dataframe()['wealth_dist']\n",
    "    time = np.arange(len(wealth_dist))\n",
    "\n",
    "    # Define agent colors\n",
    "    agent_colors = {0: '#FF0000', 1: '#00FF00', 2: '#0000FF', 3: '#FFA500', 4: '#FF00FF', 5: '#00FFFF', 6: '#FFFF00', 7: '#800080', 8: \"#008000\", 9: \"#FFC0CB\"}\n",
    "    colors = [agent_colors[agent_type] for agent_type in wealth_dist[0].keys()]\n",
    "\n",
    "    # Creating wealth distribution histograms\n",
    "    for agent_type in wealth_dist[0].keys():\n",
    "        wealth_data = [wealth_dist[i][agent_type] for i in range(len(wealth_dist))]\n",
    "        plt.hist(wealth_data, bins='auto', alpha=0.4, label=f'Agent-type {agent_type}', color=colors[agent_type])\n",
    "\n",
    "    # Adding labels and title\n",
    "    plt.xlabel('Wealth')\n",
    "    plt.ylabel('Frequency')\n",
    "    plt.title(f'Wealth Distribution Histograms (t={model.schedule.steps})')\n",
    "    # Adding a legend\n",
    "    plt.legend()\n",
    "    # Displaying the histograms\n",
    "    plt.show()"
   ]
  },
  {
   "cell_type": "markdown",
   "metadata": {},
   "source": [
    "## Segregation coefficient\n",
    "To measure the amount of segregation we use the segregation coefficient based on the article by Gauvin et al. (2009). We implemented the ```WeightedAverage``` to find the normalized weighted average of the cluster sizes. To find the segregation coefficient we need to average the normalized weighted average over multiple model runs."
   ]
  },
  {
   "cell_type": "code",
   "execution_count": 2,
   "metadata": {},
   "outputs": [],
   "source": [
    "def WeightedAverage(model):\n",
    "    \"\"\"\n",
    "    Calculates the weighted average of cluster size. Works for multiple populations with different weights.\n",
    "    \"\"\"\n",
    "    s = 0\n",
    "    \n",
    "    for i in model.cluster_sizes:\n",
    "        a = 0\n",
    "        \n",
    "        # Squaring the cluster sizes and summing them per population\n",
    "        for j in range(len(model.cluster_sizes[i])):\n",
    "            a += model.cluster_sizes[i][j]**2\n",
    "        \n",
    "        # Finding the normalized weighted average for population i and adding them up to the others\n",
    "        s += (1/(model.grid.width*model.grid.height*model.pop_weights[i])**2)*a\n",
    "    \n",
    "    return s/model.N"
   ]
  },
  {
   "cell_type": "markdown",
   "metadata": {},
   "source": [
    "## Moran's I\n",
    "Another measure for clustering is Moran's I. It is a useful measure when working with two populations. Moran's I is defined as:\n",
    "$$\n",
    "I = \\left(\\frac{N_{tot}}{\\sum_i\\sum_j w_{i,j}}\\right)\\left(\\frac{\\sum_i\\sum_jw_{i,j}(z_i-\\bar{z})(z_j-\\bar{z})}{\\sum_i}(z_i-\\bar{z})\\right)\n",
    "$$ Here, $N_{tot}$ denotes the total amount of agents, the sums are taken over all agents in the system, $w_{i,j}=1$ when agent $i$ and $j$ are neighbours, $z_i$ is 0 for the first population and $z_j$ is 1 for the second population. Finally, $\\bar{z}$ is the average value of $z$ for all agents, which is equal to the fraction of the second population in the system. To calculated Moran's I we define ```MoransI```:"
   ]
  },
  {
   "cell_type": "code",
   "execution_count": 3,
   "metadata": {},
   "outputs": [],
   "source": [
    "def MoransI(model):\n",
    "    \n",
    "    weight = model.pop_weights[1]\n",
    "    N_tot = model.size*model.size*model.density\n",
    "    \n",
    "    a = 0\n",
    "    b = 0\n",
    "    c = 0\n",
    "    \n",
    "    for cell1 in model.grid.coord_iter():\n",
    "        agent1, x1, y1 = cell1\n",
    "        \n",
    "        # Check whether content of cell is not None\n",
    "        if agent1 == None:\n",
    "                continue\n",
    "        \n",
    "        # Calculating the single sum below the division (c)       \n",
    "        if agent1.type == 0:\n",
    "            p = 1\n",
    "        else:\n",
    "            p = 0\n",
    "        c += (p - weight)**2\n",
    "        \n",
    "        for cell2 in model.grid.coord_iter():\n",
    "            agent2, x2, y2 = cell2\n",
    "            \n",
    "            # Check whether content of cell is not None\n",
    "            if agent2 == None:\n",
    "                continue\n",
    "            \n",
    "            # Check whether agent1 and agent2 are neighbors\n",
    "            if (np.sqrt((x1-x2)**2)>1 or np.sqrt((x1-x2)**2)==0) or (np.sqrt((y1-y2)**2)>1 or np.sqrt((y1-y2)**2)==0):\n",
    "                continue\n",
    "            \n",
    "            # Calculating the sums\n",
    "            a += (agent1.type - weight)*(agent2.type - weight)\n",
    "            b += 1\n",
    "    \n",
    "    MoransI = (N_tot/b)*(a/c)\n",
    "    return MoransI"
   ]
  },
  {
   "cell_type": "markdown",
   "metadata": {},
   "source": [
    "## Wealth segregation\n",
    "We want to be able to determine clustering based on the wealth levels. To do this we first define ```WealthOnGrid``` to put the wealth of each agent at the end of the model run on an numpy array. This function also plots the wealths on the grid in a heatmap."
   ]
  },
  {
   "cell_type": "code",
   "execution_count": null,
   "metadata": {},
   "outputs": [],
   "source": [
    "def WealthOnGrid(model, plot=True):\n",
    "    \"\"\"\n",
    "    Function that takes the model as input and finds the wealth of the agents at different points in the grid and puts that \n",
    "    into a numpy array. The wealth is then also plotted in a heatmap and returns the array with the wealths.\n",
    "    \"\"\"\n",
    "    wealth_on_grid = np.zeros((model.grid.width, model.grid.height))\n",
    "\n",
    "    for cell in model.grid.coord_iter():\n",
    "        cell_content, x, y = cell\n",
    "        if cell_content:\n",
    "            wealth_on_grid[x][y] = cell_content.wealth\n",
    "\n",
    "    if plot:\n",
    "        plt.imshow(wealth_on_grid, interpolation=\"nearest\")\n",
    "        plt.colorbar()\n",
    "        plt.show()\n",
    "    \n",
    "    return wealth_on_grid"
   ]
  },
  {
   "cell_type": "markdown",
   "metadata": {},
   "source": [
    "To look at wealth clusters we use variance. We start with a (random) starting position on the grid and calculate the variance (for the first iteration this will thus be 0), then we build a 2x2 square on that position and again calculate the variance. This square will be increased step by step until it is the size of the entire grid. The variance is then plotted against the size of the side of the square. This is done by the function ```WealthSegregation```, the function returns the list with variances."
   ]
  },
  {
   "cell_type": "code",
   "execution_count": null,
   "metadata": {},
   "outputs": [],
   "source": [
    "def WealthSegregation(model, x, y, plot=True):\n",
    "    \"\"\"\n",
    "    Function that takes as input the model, the array with wealths per grid location and an x and y integer. This function \n",
    "    calculates the variance of a growing square in the grid, with starting location (x,y). It returns an array with the variance\n",
    "    per square side size.\n",
    "    \"\"\"\n",
    "    # Initial values\n",
    "    wealth_on_grid = WealthOnGrid(model, False)\n",
    "    N = model.grid.width\n",
    "    var_list = []\n",
    "    L_list = []\n",
    "\n",
    "    for L in range(1, N):\n",
    "        \n",
    "        # Determine the coordinates of the square based on the initial coordinate and L\n",
    "        start_row = x - (L // 2)\n",
    "        end_row = start_row + L\n",
    "        start_col = y - (L // 2)\n",
    "        end_col = start_col + L\n",
    "\n",
    "        # Adjust the coordinates if they exceed the array boundaries\n",
    "        if end_row > N:\n",
    "            start_row -= end_row - N\n",
    "            end_row = N\n",
    "        if end_col > N:\n",
    "            start_col -= end_col - N\n",
    "            end_col = N\n",
    "        if start_row < 0:\n",
    "            end_row -= start_row\n",
    "            start_row = 0\n",
    "        if start_col < 0:\n",
    "            end_col -= start_col\n",
    "            start_col = 0\n",
    "\n",
    "        # Calculate the variance of wealth in the square\n",
    "        var = np.var(wealth_on_grid[start_row:end_row, start_col:end_col])\n",
    "\n",
    "        # Append variance to list\n",
    "        var_list.append(var)\n",
    "        L_list.append(L)\n",
    "        \n",
    "    # Delete the first element of both lists (zero variance for square of 1x1)\n",
    "    var_list.pop(0)\n",
    "    L_list.pop(0)    \n",
    "\n",
    "    if plot:\n",
    "        plt.plot(L_list, var_list)\n",
    "        plt.xlabel(\"L\")\n",
    "        plt.ylabel(\"variance\")\n",
    "        plt.show()\n",
    "    \n",
    "    return var_list"
   ]
  },
  {
   "cell_type": "markdown",
   "metadata": {},
   "source": [
    "In the above function the result is very dependent on the starting position that is taken. In the following function ```WealthSegregationAverage``` we take the average for all starting positions."
   ]
  },
  {
   "cell_type": "code",
   "execution_count": null,
   "metadata": {},
   "outputs": [],
   "source": [
    "def WealthSegregationAverage(model):\n",
    "    \"\"\"\n",
    "    Fuction that finds the average variance for different square sizes L over all possible starting coordinates (x,y).\n",
    "    \"\"\"\n",
    "    var = np.zeros(model.grid.width-2)\n",
    "    \n",
    "    # Fiding the variances for all starting coordinates and summing them together\n",
    "    for x in range(0, model.grid.width):\n",
    "        for y in range(0, model.grid.height):\n",
    "            var_list = WealthSegregation(model, x, y, False)\n",
    "            var += var_list\n",
    "    \n",
    "    # Calculating the average\n",
    "    average_vars = var/model.grid.width\n",
    "    L = np.array(range(1, model.grid.width-1))\n",
    "    \n",
    "    plt.plot(L, average_vars)\n",
    "    plt.title(\"Average variance for different square sizes L\")\n",
    "    plt.xlabel(\"L\")\n",
    "    plt.ylabel(\"Variance\")\n",
    "    plt.show()\n",
    "    \n",
    "    return average_vars"
   ]
  },
  {
   "cell_type": "markdown",
   "metadata": {},
   "source": [
    "We want to look at the derivative of the average variance, so we introduce a function to calculate the derivative of two arrays:"
   ]
  },
  {
   "cell_type": "code",
   "execution_count": null,
   "metadata": {},
   "outputs": [],
   "source": [
    "def derivative(x,y):\n",
    "    derivative = np.zeros((len(x), len(y)))\n",
    "    for i in range(len(x)-1):\n",
    "        derivative[i] = (y[i] - y[i+1]) / (x[i] - x[i+1])\n",
    "    return derivative"
   ]
  },
  {
   "cell_type": "markdown",
   "metadata": {},
   "source": [
    "We wanted to check whether the output was an logarithmic function and then, if so, what the value of the ase is. To do this we need to define an exponential function, ```LogarithmicFunc```."
   ]
  },
  {
   "cell_type": "code",
   "execution_count": null,
   "metadata": {},
   "outputs": [],
   "source": [
    "def LogarithmicFunc(x, a, b):\n",
    "    return a * np.log(x) + b"
   ]
  },
  {
   "cell_type": "markdown",
   "metadata": {},
   "source": [
    "## @Jonathan, kan jij hier uitleg bij geven?"
   ]
  },
  {
   "cell_type": "code",
   "execution_count": null,
   "metadata": {},
   "outputs": [],
   "source": [
    "def plot_clusterSizesDistribution(model):\n",
    "    \"\"\"\n",
    "    Function that plots the distribution of cluster sizes.\n",
    "    \"\"\"\n",
    "    for value in model.cluster_sizes.keys():\n",
    "        plt.hist(model.cluster_sizes[value],bins=100, density=True)\n",
    "        plt.show()"
   ]
  },
  {
   "cell_type": "markdown",
   "metadata": {},
   "source": [
    "# PART 2: Experiments\n",
    "### - Experiment 1: Highly segregated / Large custers (example):"
   ]
  },
  {
   "cell_type": "code",
   "execution_count": null,
   "metadata": {},
   "outputs": [],
   "source": [
    "# Define model parameters\n",
    "size = 100\n",
    "density = 0.9\n",
    "fixed_areas_pc = 0.0\n",
    "popilation_sizes = [0.6, 0.2, 0.2]\n",
    "homophily = 5\n",
    "cluster_threshold = 4\n",
    "alpha=0.4\n",
    "stopping_threshold=500\n",
    "server=False\n",
    "\n",
    "# Create the model\n",
    "model = Schelling(size, density, fixed_areas_pc, popilation_sizes, homophily, cluster_threshold, alpha, stopping_threshold, server)\n",
    "\n",
    "# Plot starting type/wealth distribution\n",
    "plot2D_modelTypes(model)\n",
    "plot2D_modelWealth(model)\n",
    "\n",
    "# Run the model\n",
    "steps = 200\n",
    "for i in range(steps):\n",
    "    model.step()\n"
   ]
  },
  {
   "cell_type": "code",
   "execution_count": null,
   "metadata": {},
   "outputs": [],
   "source": [
    "# Plot ending type/wealth distribution\n",
    "plot2D_modelTypes(model)\n",
    "plot2D_modelWealth(model)"
   ]
  },
  {
   "cell_type": "code",
   "execution_count": null,
   "metadata": {},
   "outputs": [],
   "source": [
    "import itertools\n",
    "\n",
    "\n",
    "# for value in model.cluster_sizes.keys():\n",
    "#     plt.hist(model.cluster_sizes[value],bins=100, density=True)\n",
    "#     plt.show()\n",
    "\n",
    "segg_cluster = list(itertools.chain.from_iterable(model.cluster_sizes.values()))\n",
    "plt.hist(segg_cluster,bins=20, density=False)\n",
    "plt.xlabel(\"Cluster size\")\n",
    "plt.ylabel(\"Frequency\")\n",
    "plt.show()\n",
    "\n",
    "# Extract data from model\n",
    "x_coords = np.array([agent.pos[0] for agent in model.schedule.agents])  # Agent x coords\n",
    "y_coords = np.array([agent.pos[1] for agent in model.schedule.agents])  # Agent y coords\n",
    "wealths = np.array([agent.wealth for agent in model.schedule.agents])   # Agent wealths \n",
    "array = pd.DataFrame({'x_pos': x_coords, 'y_pos': y_coords, 'wealth': wealths}).to_numpy()\n",
    "\n",
    "cluster_sizes = model.find_cluster_sizes(array)\n",
    "# for value in cluster_sizes.keys():\n",
    "#     clusters = \n",
    "#     plt.hist(model.cluster_sizes[value],bins=100, density=True)\n",
    "#     plt.show()\n",
    "\n",
    "wealth_cluster = list(itertools.chain.from_iterable(cluster_sizes.values()))\n",
    "plt.hist(wealth_cluster,bins=20, density=False)\n",
    "plt.xlabel(\"Cluster size\")\n",
    "plt.ylabel(\"Frequency\")\n",
    "plt.show()"
   ]
  },
  {
   "cell_type": "code",
   "execution_count": null,
   "metadata": {},
   "outputs": [],
   "source": [
    "# Plot wealth distribution over time\n",
    "wealth_dist_lineplot(model)\n",
    "wealth_dist_histograms(model)\n"
   ]
  },
  {
   "cell_type": "markdown",
   "metadata": {},
   "source": [
    "### - Experiment 2: Finding the Segregation Coefficient:\n"
   ]
  },
  {
   "cell_type": "code",
   "execution_count": null,
   "metadata": {},
   "outputs": [],
   "source": [
    "# We find the segregation coefficient by averaging the normalized weighted average cluster size\n",
    "\n",
    "# Define model parameters\n",
    "size = 100\n",
    "density = 0.9\n",
    "fixed_areas_pc = 0.0\n",
    "popilation_sizes = [0.6, 0.4]\n",
    "homophily = 6\n",
    "cluster_threshold = 4\n",
    "alpha=0.01\n",
    "stopping_threshold=5\n",
    "server=False\n",
    "\n",
    "# Initial value\n",
    "a = 0\n",
    "\n",
    "for i in range(10):\n",
    "    # Create the model\n",
    "    model = Schelling(size, density, fixed_areas_pc, popilation_sizes, homophily, cluster_threshold, alpha, stopping_threshold, server)\n",
    "    \n",
    "    while model.running and model.schedule.steps < 100:\n",
    "        model.step()\n",
    "    a += WeightedAverage(model)\n",
    "\n",
    "SegCoef = a/10\n",
    "print(\"Segregation Coefficient:\", SegCoef)"
   ]
  },
  {
   "cell_type": "markdown",
   "metadata": {},
   "source": [
    "### - Experiment 3: Wealth Segregation:"
   ]
  },
  {
   "cell_type": "code",
   "execution_count": null,
   "metadata": {},
   "outputs": [],
   "source": [
    "# Define model parameters\n",
    "size = 100\n",
    "density = 0.9\n",
    "fixed_areas_pc = 0.0\n",
    "popilation_sizes = [0.6, 0.4]\n",
    "homophily = 6\n",
    "cluster_threshold = 4\n",
    "alpha=0.5\n",
    "stopping_threshold=5\n",
    "server=False\n",
    "\n",
    "# Getting the variance plot for a random initial coordinate\n",
    "x = random.randint(0, model.grid.width-1)\n",
    "y = random.randint(0, model.grid.width-1)\n",
    "\n",
    "var = WealthSegregation(model, x, y, True)\n",
    "\n",
    "# Getting the average variance over all possible starting coordinates\n",
    "average_var = WealthSegregationAverage(model)"
   ]
  },
  {
   "cell_type": "code",
   "execution_count": null,
   "metadata": {},
   "outputs": [],
   "source": [
    "# Calculate half-time of average variance plot\n",
    "end_value = average_var[len(average_var)-1]\n",
    "half_time = np.interp(0.5*end_value, average_var, L)\n",
    "print(half_time)"
   ]
  },
  {
   "cell_type": "code",
   "execution_count": null,
   "metadata": {},
   "outputs": [],
   "source": [
    "# Calculate the derivative of the avergae variance plot\n",
    "deriv = derivative(L, average_var)\n",
    "plt.plot(L, deriv, '-b')\n",
    "plt.show()"
   ]
  },
  {
   "cell_type": "code",
   "execution_count": null,
   "metadata": {},
   "outputs": [],
   "source": [
    "# Fitting logaritmic fucntion\n",
    "params, _ = curve_fit(LogarithmicFunc, L, average_var)\n",
    "\n",
    "a_fit, b_fit = params\n",
    "\n",
    "# Plot the original data and fitted curve\n",
    "plt.scatter(L, average_var, label='Original data')\n",
    "plt.plot(L, LogarithmicFunc(L, a_fit, b_fit), 'r-', label='Fitted curve')\n",
    "plt.legend()\n",
    "plt.xlabel('L')\n",
    "plt.ylabel('Average variance')\n",
    "plt.show()"
   ]
  },
  {
   "cell_type": "code",
   "execution_count": null,
   "metadata": {},
   "outputs": [],
   "source": [
    "# Calculating the half-time of the logarithm\n",
    "end_value = LogarithmicFunc(1000, a_fit, b_fit)\n",
    "half_time = np.interp(0.5*end_value, LogarithmicFunc(L, a_fit, b_fit), L)\n",
    "\n",
    "print(half_time)"
   ]
  },
  {
   "cell_type": "markdown",
   "metadata": {},
   "source": [
    "### - Experiment 4: Line plot density-segregation coefficient (plot 4)"
   ]
  },
  {
   "cell_type": "code",
   "execution_count": 4,
   "metadata": {},
   "outputs": [
    {
     "data": {
      "image/png": "[encoded data removed]",
      "text/plain": [
       "<Figure size 640x480 with 1 Axes>"
      ]
     },
     "metadata": {},
     "output_type": "display_data"
    }
   ],
   "source": [
    "density_values = np.linspace(0.6,0.95, num=10)\n",
    "segregation_list = []\n",
    "for density in density_values:\n",
    "    model = Schelling(size=100, density=density, fixed_areas_pc=0.0, pop_weights=(0.6,0.4), homophily=6, cluster_threshold=4, alpha=5, stopping_threshold=5)\n",
    "    while model.running and model.schedule.steps < 100:\n",
    "        model.step()\n",
    "    segregation = model.cluster_coefficient\n",
    "    segregation_list.append(segregation)\n",
    "\n",
    "plt.plot(density_values, segregation_list, 'k-')\n",
    "plt.title('Segregation vs Density pop = (0.6, 0.4), homophily = 6')\n",
    "plt.xlabel('Density')\n",
    "plt.ylabel('Segregation Coefficient')\n",
    "plt.show()"
   ]
  },
  {
   "cell_type": "code",
   "execution_count": 6,
   "metadata": {},
   "outputs": [
    {
     "data": {
      "image/png": "[encoded data removed]",
      "text/plain": [
       "<Figure size 640x480 with 1 Axes>"
      ]
     },
     "metadata": {},
     "output_type": "display_data"
    }
   ],
   "source": [
    "density_values = np.linspace(0.6,0.95, num=10)\n",
    "segregation_list = []\n",
    "for density in density_values:\n",
    "    model = Schelling(size=100, density=density, fixed_areas_pc=0.0, pop_weights=(0.6,0.4), homophily=6, cluster_threshold=4, alpha=5, stopping_threshold=5)\n",
    "    while model.running and model.schedule.steps < 100:\n",
    "        model.step()\n",
    "    segregation = MoransI(model)\n",
    "    segregation_list.append(segregation)\n",
    "\n",
    "plt.plot(density_values, segregation_list, 'k-')\n",
    "plt.title('Morans I vs Density pop = (0.6, 0.4), homophily = 6')\n",
    "plt.xlabel('Density')\n",
    "plt.ylabel('Morans I')\n",
    "plt.show()"
   ]
  },
  {
   "cell_type": "markdown",
   "metadata": {},
   "source": [
    "### - Experiment 5: Line plot homophily-Moran's I (plot 6)"
   ]
  },
  {
   "cell_type": "code",
   "execution_count": 8,
   "metadata": {},
   "outputs": [
    {
     "ename": "ValueError",
     "evalue": "x and y must have same first dimension, but have shapes (10,) and (9,)",
     "output_type": "error",
     "traceback": [
      "\u001b[1;31m---------------------------------------------------------------------------\u001b[0m",
      "\u001b[1;31mValueError\u001b[0m                                Traceback (most recent call last)",
      "\u001b[1;32m~\\AppData\\Local\\Temp\\ipykernel_14400\\3183231680.py\u001b[0m in \u001b[0;36m<module>\u001b[1;34m\u001b[0m\n\u001b[0;32m      8\u001b[0m     \u001b[0msegregation_list\u001b[0m\u001b[1;33m.\u001b[0m\u001b[0mappend\u001b[0m\u001b[1;33m(\u001b[0m\u001b[0msegregation\u001b[0m\u001b[1;33m)\u001b[0m\u001b[1;33m\u001b[0m\u001b[1;33m\u001b[0m\u001b[0m\n\u001b[0;32m      9\u001b[0m \u001b[1;33m\u001b[0m\u001b[0m\n\u001b[1;32m---> 10\u001b[1;33m \u001b[0mplt\u001b[0m\u001b[1;33m.\u001b[0m\u001b[0mplot\u001b[0m\u001b[1;33m(\u001b[0m\u001b[0mdensity_values\u001b[0m\u001b[1;33m,\u001b[0m \u001b[0msegregation_list\u001b[0m\u001b[1;33m,\u001b[0m \u001b[1;34m'k-'\u001b[0m\u001b[1;33m)\u001b[0m\u001b[1;33m\u001b[0m\u001b[1;33m\u001b[0m\u001b[0m\n\u001b[0m\u001b[0;32m     11\u001b[0m \u001b[0mplt\u001b[0m\u001b[1;33m.\u001b[0m\u001b[0mtitle\u001b[0m\u001b[1;33m(\u001b[0m\u001b[1;34m'Morans I vs Homophily pop = (0.6, 0.4)'\u001b[0m\u001b[1;33m)\u001b[0m\u001b[1;33m\u001b[0m\u001b[1;33m\u001b[0m\u001b[0m\n\u001b[0;32m     12\u001b[0m \u001b[0mplt\u001b[0m\u001b[1;33m.\u001b[0m\u001b[0mxlabel\u001b[0m\u001b[1;33m(\u001b[0m\u001b[1;34m'Homophily'\u001b[0m\u001b[1;33m)\u001b[0m\u001b[1;33m\u001b[0m\u001b[1;33m\u001b[0m\u001b[0m\n",
      "\u001b[1;32m~\\anaconda3\\lib\\site-packages\\matplotlib\\pyplot.py\u001b[0m in \u001b[0;36mplot\u001b[1;34m(scalex, scaley, data, *args, **kwargs)\u001b[0m\n\u001b[0;32m   2767\u001b[0m \u001b[1;33m@\u001b[0m\u001b[0m_copy_docstring_and_deprecators\u001b[0m\u001b[1;33m(\u001b[0m\u001b[0mAxes\u001b[0m\u001b[1;33m.\u001b[0m\u001b[0mplot\u001b[0m\u001b[1;33m)\u001b[0m\u001b[1;33m\u001b[0m\u001b[1;33m\u001b[0m\u001b[0m\n\u001b[0;32m   2768\u001b[0m \u001b[1;32mdef\u001b[0m \u001b[0mplot\u001b[0m\u001b[1;33m(\u001b[0m\u001b[1;33m*\u001b[0m\u001b[0margs\u001b[0m\u001b[1;33m,\u001b[0m \u001b[0mscalex\u001b[0m\u001b[1;33m=\u001b[0m\u001b[1;32mTrue\u001b[0m\u001b[1;33m,\u001b[0m \u001b[0mscaley\u001b[0m\u001b[1;33m=\u001b[0m\u001b[1;32mTrue\u001b[0m\u001b[1;33m,\u001b[0m \u001b[0mdata\u001b[0m\u001b[1;33m=\u001b[0m\u001b[1;32mNone\u001b[0m\u001b[1;33m,\u001b[0m \u001b[1;33m**\u001b[0m\u001b[0mkwargs\u001b[0m\u001b[1;33m)\u001b[0m\u001b[1;33m:\u001b[0m\u001b[1;33m\u001b[0m\u001b[1;33m\u001b[0m\u001b[0m\n\u001b[1;32m-> 2769\u001b[1;33m     return gca().plot(\n\u001b[0m\u001b[0;32m   2770\u001b[0m         \u001b[1;33m*\u001b[0m\u001b[0margs\u001b[0m\u001b[1;33m,\u001b[0m \u001b[0mscalex\u001b[0m\u001b[1;33m=\u001b[0m\u001b[0mscalex\u001b[0m\u001b[1;33m,\u001b[0m \u001b[0mscaley\u001b[0m\u001b[1;33m=\u001b[0m\u001b[0mscaley\u001b[0m\u001b[1;33m,\u001b[0m\u001b[1;33m\u001b[0m\u001b[1;33m\u001b[0m\u001b[0m\n\u001b[0;32m   2771\u001b[0m         **({\"data\": data} if data is not None else {}), **kwargs)\n",
      "\u001b[1;32m~\\anaconda3\\lib\\site-packages\\matplotlib\\axes\\_axes.py\u001b[0m in \u001b[0;36mplot\u001b[1;34m(self, scalex, scaley, data, *args, **kwargs)\u001b[0m\n\u001b[0;32m   1630\u001b[0m         \"\"\"\n\u001b[0;32m   1631\u001b[0m         \u001b[0mkwargs\u001b[0m \u001b[1;33m=\u001b[0m \u001b[0mcbook\u001b[0m\u001b[1;33m.\u001b[0m\u001b[0mnormalize_kwargs\u001b[0m\u001b[1;33m(\u001b[0m\u001b[0mkwargs\u001b[0m\u001b[1;33m,\u001b[0m \u001b[0mmlines\u001b[0m\u001b[1;33m.\u001b[0m\u001b[0mLine2D\u001b[0m\u001b[1;33m)\u001b[0m\u001b[1;33m\u001b[0m\u001b[1;33m\u001b[0m\u001b[0m\n\u001b[1;32m-> 1632\u001b[1;33m         \u001b[0mlines\u001b[0m \u001b[1;33m=\u001b[0m \u001b[1;33m[\u001b[0m\u001b[1;33m*\u001b[0m\u001b[0mself\u001b[0m\u001b[1;33m.\u001b[0m\u001b[0m_get_lines\u001b[0m\u001b[1;33m(\u001b[0m\u001b[1;33m*\u001b[0m\u001b[0margs\u001b[0m\u001b[1;33m,\u001b[0m \u001b[0mdata\u001b[0m\u001b[1;33m=\u001b[0m\u001b[0mdata\u001b[0m\u001b[1;33m,\u001b[0m \u001b[1;33m**\u001b[0m\u001b[0mkwargs\u001b[0m\u001b[1;33m)\u001b[0m\u001b[1;33m]\u001b[0m\u001b[1;33m\u001b[0m\u001b[1;33m\u001b[0m\u001b[0m\n\u001b[0m\u001b[0;32m   1633\u001b[0m         \u001b[1;32mfor\u001b[0m \u001b[0mline\u001b[0m \u001b[1;32min\u001b[0m \u001b[0mlines\u001b[0m\u001b[1;33m:\u001b[0m\u001b[1;33m\u001b[0m\u001b[1;33m\u001b[0m\u001b[0m\n\u001b[0;32m   1634\u001b[0m             \u001b[0mself\u001b[0m\u001b[1;33m.\u001b[0m\u001b[0madd_line\u001b[0m\u001b[1;33m(\u001b[0m\u001b[0mline\u001b[0m\u001b[1;33m)\u001b[0m\u001b[1;33m\u001b[0m\u001b[1;33m\u001b[0m\u001b[0m\n",
      "\u001b[1;32m~\\anaconda3\\lib\\site-packages\\matplotlib\\axes\\_base.py\u001b[0m in \u001b[0;36m__call__\u001b[1;34m(self, data, *args, **kwargs)\u001b[0m\n\u001b[0;32m    310\u001b[0m                 \u001b[0mthis\u001b[0m \u001b[1;33m+=\u001b[0m \u001b[0margs\u001b[0m\u001b[1;33m[\u001b[0m\u001b[1;36m0\u001b[0m\u001b[1;33m]\u001b[0m\u001b[1;33m,\u001b[0m\u001b[1;33m\u001b[0m\u001b[1;33m\u001b[0m\u001b[0m\n\u001b[0;32m    311\u001b[0m                 \u001b[0margs\u001b[0m \u001b[1;33m=\u001b[0m \u001b[0margs\u001b[0m\u001b[1;33m[\u001b[0m\u001b[1;36m1\u001b[0m\u001b[1;33m:\u001b[0m\u001b[1;33m]\u001b[0m\u001b[1;33m\u001b[0m\u001b[1;33m\u001b[0m\u001b[0m\n\u001b[1;32m--> 312\u001b[1;33m             \u001b[1;32myield\u001b[0m \u001b[1;32mfrom\u001b[0m \u001b[0mself\u001b[0m\u001b[1;33m.\u001b[0m\u001b[0m_plot_args\u001b[0m\u001b[1;33m(\u001b[0m\u001b[0mthis\u001b[0m\u001b[1;33m,\u001b[0m \u001b[0mkwargs\u001b[0m\u001b[1;33m)\u001b[0m\u001b[1;33m\u001b[0m\u001b[1;33m\u001b[0m\u001b[0m\n\u001b[0m\u001b[0;32m    313\u001b[0m \u001b[1;33m\u001b[0m\u001b[0m\n\u001b[0;32m    314\u001b[0m     \u001b[1;32mdef\u001b[0m \u001b[0mget_next_color\u001b[0m\u001b[1;33m(\u001b[0m\u001b[0mself\u001b[0m\u001b[1;33m)\u001b[0m\u001b[1;33m:\u001b[0m\u001b[1;33m\u001b[0m\u001b[1;33m\u001b[0m\u001b[0m\n",
      "\u001b[1;32m~\\anaconda3\\lib\\site-packages\\matplotlib\\axes\\_base.py\u001b[0m in \u001b[0;36m_plot_args\u001b[1;34m(self, tup, kwargs, return_kwargs)\u001b[0m\n\u001b[0;32m    496\u001b[0m \u001b[1;33m\u001b[0m\u001b[0m\n\u001b[0;32m    497\u001b[0m         \u001b[1;32mif\u001b[0m \u001b[0mx\u001b[0m\u001b[1;33m.\u001b[0m\u001b[0mshape\u001b[0m\u001b[1;33m[\u001b[0m\u001b[1;36m0\u001b[0m\u001b[1;33m]\u001b[0m \u001b[1;33m!=\u001b[0m \u001b[0my\u001b[0m\u001b[1;33m.\u001b[0m\u001b[0mshape\u001b[0m\u001b[1;33m[\u001b[0m\u001b[1;36m0\u001b[0m\u001b[1;33m]\u001b[0m\u001b[1;33m:\u001b[0m\u001b[1;33m\u001b[0m\u001b[1;33m\u001b[0m\u001b[0m\n\u001b[1;32m--> 498\u001b[1;33m             raise ValueError(f\"x and y must have same first dimension, but \"\n\u001b[0m\u001b[0;32m    499\u001b[0m                              f\"have shapes {x.shape} and {y.shape}\")\n\u001b[0;32m    500\u001b[0m         \u001b[1;32mif\u001b[0m \u001b[0mx\u001b[0m\u001b[1;33m.\u001b[0m\u001b[0mndim\u001b[0m \u001b[1;33m>\u001b[0m \u001b[1;36m2\u001b[0m \u001b[1;32mor\u001b[0m \u001b[0my\u001b[0m\u001b[1;33m.\u001b[0m\u001b[0mndim\u001b[0m \u001b[1;33m>\u001b[0m \u001b[1;36m2\u001b[0m\u001b[1;33m:\u001b[0m\u001b[1;33m\u001b[0m\u001b[1;33m\u001b[0m\u001b[0m\n",
      "\u001b[1;31mValueError\u001b[0m: x and y must have same first dimension, but have shapes (10,) and (9,)"
     ]
    },
    {
     "data": {
      "image/png": "[encoded data removed]",
      "text/plain": [
       "<Figure size 640x480 with 1 Axes>"
      ]
     },
     "metadata": {},
     "output_type": "display_data"
    }
   ],
   "source": [
    "homophily_values = [0, 1, 2, 3, 4, 5, 6, 7, 8]\n",
    "segregation_list = []\n",
    "for homophily in homophily_values:\n",
    "    model = Schelling(size=100, density=0.97, fixed_areas_pc=0.0, pop_weights=(0.6,0.4), homophily=homophily, cluster_threshold=4, alpha=5, stopping_threshold=5)\n",
    "    while model.running and model.schedule.steps < 100:\n",
    "        model.step()\n",
    "    segregation = MoransI(model)\n",
    "    segregation_list.append(segregation)\n",
    "    print(homophily)\n",
    "\n",
    "plt.plot(homophily_values, segregation_list, 'k-')\n",
    "plt.title('Morans I vs Homophily pop = (0.6, 0.4)')\n",
    "plt.xlabel('Homophily')\n",
    "plt.ylabel('Morans I')\n",
    "plt.show()"
   ]
  },
  {
   "cell_type": "code",
   "execution_count": 9,
   "metadata": {},
   "outputs": [
    {
     "data": {
      "image/png": "[encoded data removed]",
      "text/plain": [
       "<Figure size 640x480 with 1 Axes>"
      ]
     },
     "metadata": {},
     "output_type": "display_data"
    }
   ],
   "source": [
    "plt.plot(homophily_values, segregation_list, 'k-')\n",
    "plt.title('Morans I vs Homophily pop = (0.6, 0.4)')\n",
    "plt.xlabel('Homophily')\n",
    "plt.ylabel('Morans I')\n",
    "plt.show()"
   ]
  },
  {
   "cell_type": "code",
   "execution_count": null,
   "metadata": {},
   "outputs": [],
   "source": []
  }
 ],
 "metadata": {
  "kernelspec": {
   "display_name": "Python 3 (ipykernel)",
   "language": "python",
   "name": "python3"
  },
  "language_info": {
   "codemirror_mode": {
    "name": "ipython",
    "version": 3
   },
   "file_extension": ".py",
   "mimetype": "text/x-python",
   "name": "python",
   "nbconvert_exporter": "python",
   "pygments_lexer": "ipython3",
   "version": "3.9.13"
  }
 },
 "nbformat": 4,
 "nbformat_minor": 2
}
