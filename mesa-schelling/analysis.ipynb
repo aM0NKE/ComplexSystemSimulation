{
 "cells": [
  {
   "attachments": {},
   "cell_type": "markdown",
   "metadata": {},
   "source": [
    "# Schelling Segregation Model\n",
    "\n",
    "## Background\n",
    "\n",
    "The Schelling (1971) segregation model is a classic of agent-based modeling, demonstrating how agents following simple rules lead to the emergence of qualitatively different macro-level outcomes. Agents are randomly placed on a grid. There are two types of agents, one constituting the majority and the other the minority. All agents want a certain number (generally, 3) of their 8 surrounding neighbors to be of the same type in order for them to be happy. Unhappy agents will move to a random available grid space. While individual agents do not have a preference for a segregated outcome (e.g. they would be happy with 3 similar neighbors and 5 different ones), the aggregate outcome is nevertheless heavily segregated.\n",
    "\n",
    "## Implementation\n",
    "\n",
    "This is a demonstration of running a Mesa model in an IPython Notebook. The actual model and agent code are implemented in Schelling.py, in the same directory as this notebook. Below, we will import the model class, instantiate it, run it, and plot the time series of the number of happy agents."
   ]
  },
  {
   "cell_type": "code",
   "execution_count": 1,
   "metadata": {},
   "outputs": [],
   "source": [
    "import matplotlib.pyplot as plt\n",
    "\n",
    "%matplotlib inline\n",
    "\n",
    "from model import Schelling"
   ]
  },
  {
   "attachments": {},
   "cell_type": "markdown",
   "metadata": {},
   "source": [
    "Now we instantiate a model instance: a 10x10 grid, with an 80% change of an agent being placed in each cell, approximately 20% of agents set as minorities, and agents wanting at least 3 similar neighbors."
   ]
  },
  {
   "cell_type": "code",
   "execution_count": 3,
   "metadata": {},
   "outputs": [
    {
     "name": "stdout",
     "output_type": "stream",
     "text": [
      "0.0\n"
     ]
    }
   ],
   "source": [
    "model = Schelling(100, 100, 0.97, 0.0, [0.34, 0.33, 0.33], 3)\n",
    "print(model.total_avg_cluster_size)"
   ]
  },
  {
   "attachments": {},
   "cell_type": "markdown",
   "metadata": {},
   "source": [
    "We want to run the model until all the agents are happy with where they are. However, there's no guarantee that a given model instantiation will *ever* settle down. So let's run it for either 100 steps or until it stops on its own, whichever comes first:"
   ]
  },
  {
   "cell_type": "code",
   "execution_count": 4,
   "metadata": {},
   "outputs": [
    {
     "name": "stdout",
     "output_type": "stream",
     "text": [
      "28\n"
     ]
    }
   ],
   "source": [
    "while model.running and model.schedule.steps < 100:\n",
    "    model.step()\n",
    "print(model.schedule.steps)  # Show how many steps have actually run"
   ]
  },
  {
   "cell_type": "code",
   "execution_count": 5,
   "metadata": {},
   "outputs": [
    {
     "data": {
      "text/plain": [
       "27.97798992779421"
      ]
     },
     "execution_count": 5,
     "metadata": {},
     "output_type": "execute_result"
    }
   ],
   "source": [
    "model.total_avg_cluster_size"
   ]
  },
  {
   "attachments": {},
   "cell_type": "markdown",
   "metadata": {},
   "source": [
    "The model has a DataCollector object, which checks and stores how many agents are happy at the end of each step. It can also generate a pandas DataFrame of the data it has collected:"
   ]
  },
  {
   "cell_type": "code",
   "execution_count": 6,
   "metadata": {},
   "outputs": [],
   "source": [
    "model_out = model.datacollector.get_model_vars_dataframe()"
   ]
  },
  {
   "cell_type": "code",
   "execution_count": 7,
   "metadata": {},
   "outputs": [
    {
     "data": {
      "text/html": [
       "<div>\n",
       "<style scoped>\n",
       "    .dataframe tbody tr th:only-of-type {\n",
       "        vertical-align: middle;\n",
       "    }\n",
       "\n",
       "    .dataframe tbody tr th {\n",
       "        vertical-align: top;\n",
       "    }\n",
       "\n",
       "    .dataframe thead th {\n",
       "        text-align: right;\n",
       "    }\n",
       "</style>\n",
       "<table border=\"1\" class=\"dataframe\">\n",
       "  <thead>\n",
       "    <tr style=\"text-align: right;\">\n",
       "      <th></th>\n",
       "      <th>happy</th>\n",
       "      <th>total_wealth</th>\n",
       "      <th>wealth_distribution</th>\n",
       "      <th>happy_distribution</th>\n",
       "      <th>total_avg_cluster_size</th>\n",
       "      <th>cluster_sizes</th>\n",
       "      <th>cluster_data</th>\n",
       "    </tr>\n",
       "  </thead>\n",
       "  <tbody>\n",
       "    <tr>\n",
       "      <th>0</th>\n",
       "      <td>0</td>\n",
       "      <td>0.000000</td>\n",
       "      <td>{0: 0, 1: 0, 2: 0}</td>\n",
       "      <td>{0: 0, 1: 0, 2: 0}</td>\n",
       "      <td>0.000000</td>\n",
       "      <td>{}</td>\n",
       "      <td>{}</td>\n",
       "    </tr>\n",
       "    <tr>\n",
       "      <th>1</th>\n",
       "      <td>5520</td>\n",
       "      <td>48926.405169</td>\n",
       "      <td>{0: 16388.527419710295, 1: 15946.787534759918,...</td>\n",
       "      <td>{0: 1843, 1: 1774, 2: 1903}</td>\n",
       "      <td>4.589522</td>\n",
       "      <td>{0: [14.0, 4.0, 2.0, 1.0, 1.0, 6.0, 2.0, 8.0, ...</td>\n",
       "      <td>{0: [718, 4.951253481894151, 10.15817068061053...</td>\n",
       "    </tr>\n",
       "    <tr>\n",
       "      <th>2</th>\n",
       "      <td>7340</td>\n",
       "      <td>48923.700748</td>\n",
       "      <td>{0: 16372.24309746396, 1: 15942.766891818084, ...</td>\n",
       "      <td>{0: 2464, 1: 2355, 2: 2521}</td>\n",
       "      <td>6.725797</td>\n",
       "      <td>{0: [18.0, 4.0, 1.0, 1.0, 1.0, 1.0, 43.0, 7.0,...</td>\n",
       "      <td>{0: [541, 6.5711645101663585, 19.4170357089695...</td>\n",
       "    </tr>\n",
       "    <tr>\n",
       "      <th>3</th>\n",
       "      <td>8244</td>\n",
       "      <td>48931.103384</td>\n",
       "      <td>{0: 16375.813015914977, 1: 15939.007927226772,...</td>\n",
       "      <td>{0: 2750, 1: 2649, 2: 2845}</td>\n",
       "      <td>9.212192</td>\n",
       "      <td>{0: [15.0, 4.0, 1.0, 1.0, 1.0, 1.0, 1.0, 1.0, ...</td>\n",
       "      <td>{0: [421, 8.44418052256532, 24.888155433067414...</td>\n",
       "    </tr>\n",
       "    <tr>\n",
       "      <th>4</th>\n",
       "      <td>8738</td>\n",
       "      <td>48938.610083</td>\n",
       "      <td>{0: 16378.090514617767, 1: 15931.617678223247,...</td>\n",
       "      <td>{0: 2917, 1: 2830, 2: 2991}</td>\n",
       "      <td>12.204471</td>\n",
       "      <td>{0: [6.0, 5.0, 1.0, 1.0, 1.0, 1.0, 1.0, 43.0, ...</td>\n",
       "      <td>{0: [349, 10.18624641833811, 31.93092894743968...</td>\n",
       "    </tr>\n",
       "  </tbody>\n",
       "</table>\n",
       "</div>"
      ],
      "text/plain": [
       "   happy  total_wealth                                wealth_distribution  \\\n",
       "0      0      0.000000                                 {0: 0, 1: 0, 2: 0}   \n",
       "1   5520  48926.405169  {0: 16388.527419710295, 1: 15946.787534759918,...   \n",
       "2   7340  48923.700748  {0: 16372.24309746396, 1: 15942.766891818084, ...   \n",
       "3   8244  48931.103384  {0: 16375.813015914977, 1: 15939.007927226772,...   \n",
       "4   8738  48938.610083  {0: 16378.090514617767, 1: 15931.617678223247,...   \n",
       "\n",
       "            happy_distribution  total_avg_cluster_size  \\\n",
       "0           {0: 0, 1: 0, 2: 0}                0.000000   \n",
       "1  {0: 1843, 1: 1774, 2: 1903}                4.589522   \n",
       "2  {0: 2464, 1: 2355, 2: 2521}                6.725797   \n",
       "3  {0: 2750, 1: 2649, 2: 2845}                9.212192   \n",
       "4  {0: 2917, 1: 2830, 2: 2991}               12.204471   \n",
       "\n",
       "                                       cluster_sizes  \\\n",
       "0                                                 {}   \n",
       "1  {0: [14.0, 4.0, 2.0, 1.0, 1.0, 6.0, 2.0, 8.0, ...   \n",
       "2  {0: [18.0, 4.0, 1.0, 1.0, 1.0, 1.0, 43.0, 7.0,...   \n",
       "3  {0: [15.0, 4.0, 1.0, 1.0, 1.0, 1.0, 1.0, 1.0, ...   \n",
       "4  {0: [6.0, 5.0, 1.0, 1.0, 1.0, 1.0, 1.0, 43.0, ...   \n",
       "\n",
       "                                        cluster_data  \n",
       "0                                                 {}  \n",
       "1  {0: [718, 4.951253481894151, 10.15817068061053...  \n",
       "2  {0: [541, 6.5711645101663585, 19.4170357089695...  \n",
       "3  {0: [421, 8.44418052256532, 24.888155433067414...  \n",
       "4  {0: [349, 10.18624641833811, 31.93092894743968...  "
      ]
     },
     "execution_count": 7,
     "metadata": {},
     "output_type": "execute_result"
    }
   ],
   "source": [
    "model_out.head()"
   ]
  },
  {
   "attachments": {},
   "cell_type": "markdown",
   "metadata": {},
   "source": [
    "Finally, we can plot the 'happy' series:"
   ]
  },
  {
   "cell_type": "code",
   "execution_count": 8,
   "metadata": {},
   "outputs": [
    {
     "data": {
      "text/plain": [
       "<Axes: >"
      ]
     },
     "execution_count": 8,
     "metadata": {},
     "output_type": "execute_result"
    },
    {
     "data": {
      "image/png": "[encoded data removed]",
      "text/plain": [
       "<Figure size 640x480 with 1 Axes>"
      ]
     },
     "metadata": {},
     "output_type": "display_data"
    }
   ],
   "source": [
    "model_out.happy.plot()"
   ]
  },
  {
   "attachments": {},
   "cell_type": "markdown",
   "metadata": {},
   "source": [
    "For testing purposes, here is a table giving each agent's x and y values at each step."
   ]
  },
  {
   "cell_type": "code",
   "execution_count": 9,
   "metadata": {},
   "outputs": [],
   "source": [
    "x_positions = model.datacollector.get_agent_vars_dataframe()"
   ]
  },
  {
   "cell_type": "code",
   "execution_count": 10,
   "metadata": {},
   "outputs": [
    {
     "data": {
      "text/html": [
       "<div>\n",
       "<style scoped>\n",
       "    .dataframe tbody tr th:only-of-type {\n",
       "        vertical-align: middle;\n",
       "    }\n",
       "\n",
       "    .dataframe tbody tr th {\n",
       "        vertical-align: top;\n",
       "    }\n",
       "\n",
       "    .dataframe thead th {\n",
       "        text-align: right;\n",
       "    }\n",
       "</style>\n",
       "<table border=\"1\" class=\"dataframe\">\n",
       "  <thead>\n",
       "    <tr style=\"text-align: right;\">\n",
       "      <th></th>\n",
       "      <th></th>\n",
       "      <th>x</th>\n",
       "      <th>y</th>\n",
       "    </tr>\n",
       "    <tr>\n",
       "      <th>Step</th>\n",
       "      <th>AgentID</th>\n",
       "      <th></th>\n",
       "      <th></th>\n",
       "    </tr>\n",
       "  </thead>\n",
       "  <tbody>\n",
       "    <tr>\n",
       "      <th rowspan=\"5\" valign=\"top\">1</th>\n",
       "      <th>(0, 0)</th>\n",
       "      <td>0</td>\n",
       "      <td>0</td>\n",
       "    </tr>\n",
       "    <tr>\n",
       "      <th>(0, 1)</th>\n",
       "      <td>0</td>\n",
       "      <td>1</td>\n",
       "    </tr>\n",
       "    <tr>\n",
       "      <th>(0, 2)</th>\n",
       "      <td>83</td>\n",
       "      <td>73</td>\n",
       "    </tr>\n",
       "    <tr>\n",
       "      <th>(0, 3)</th>\n",
       "      <td>0</td>\n",
       "      <td>3</td>\n",
       "    </tr>\n",
       "    <tr>\n",
       "      <th>(0, 4)</th>\n",
       "      <td>53</td>\n",
       "      <td>30</td>\n",
       "    </tr>\n",
       "  </tbody>\n",
       "</table>\n",
       "</div>"
      ],
      "text/plain": [
       "               x   y\n",
       "Step AgentID        \n",
       "1    (0, 0)    0   0\n",
       "     (0, 1)    0   1\n",
       "     (0, 2)   83  73\n",
       "     (0, 3)    0   3\n",
       "     (0, 4)   53  30"
      ]
     },
     "execution_count": 10,
     "metadata": {},
     "output_type": "execute_result"
    }
   ],
   "source": [
    "x_positions.head()"
   ]
  },
  {
   "attachments": {},
   "cell_type": "markdown",
   "metadata": {},
   "source": [
    "# Effect of Homophily on segregation\n",
    "\n",
    "Now, we can do a parameter sweep to see how segregation changes with homophily.\n",
    "\n",
    "First, we create a function which takes a model instance and returns what fraction of agents are segregated -- that is, have no neighbors of the opposite type."
   ]
  },
  {
   "cell_type": "code",
   "execution_count": 11,
   "metadata": {},
   "outputs": [],
   "source": [
    "from mesa.batchrunner import BatchRunner"
   ]
  },
  {
   "cell_type": "code",
   "execution_count": 12,
   "metadata": {},
   "outputs": [],
   "source": [
    "def get_segregation(model):\n",
    "    \"\"\"\n",
    "    Find the % of agents that only have neighbors of their same type.\n",
    "    \"\"\"\n",
    "    segregated_agents = 0\n",
    "    for agent in model.schedule.agents:\n",
    "        segregated = True\n",
    "        for neighbor in model.grid.iter_neighbors(agent.pos, True):\n",
    "            if neighbor.type != agent.type:\n",
    "                segregated = False\n",
    "                break\n",
    "        if segregated:\n",
    "            segregated_agents += 1\n",
    "    return segregated_agents / model.schedule.get_agent_count()"
   ]
  },
  {
   "attachments": {},
   "cell_type": "markdown",
   "metadata": {},
   "source": [
    "Now, we set up the batch run, with a dictionary of fixed and changing parameters. Let's hold everything fixed except for Homophily."
   ]
  },
  {
   "cell_type": "code",
   "execution_count": 13,
   "metadata": {},
   "outputs": [
    {
     "name": "stderr",
     "output_type": "stream",
     "text": [
      "/var/folders/3r/06f0kz_j0zb07pnyqbs7b5b80000gn/T/ipykernel_36970/3047792967.py:21: DeprecationWarning: BatchRunner class has been replaced by batch_run function. Please see documentation.\n",
      "  batch_run = BatchRunner(\n",
      "0it [00:00, ?it/s]"
     ]
    },
    {
     "name": "stderr",
     "output_type": "stream",
     "text": [
      "64it [2:03:03, 115.37s/it]\n"
     ]
    }
   ],
   "source": [
    "\n",
    "# pop_weights_list = []\n",
    "# for i in range(2, 10):\n",
    "#     pop_weights = [1 / i] * i\n",
    "#     pop_weights_list.append(pop_weights)\n",
    "\n",
    "pop_weights_tuples = tuple((1 / i,) * i for i in range(2, 10))\n",
    "N_values = range(2, 10)\n",
    "\n",
    "fixed_params = {\"height\": 100, \"width\": 100, \"density\": 0.97, \"fixed_areas_pc\": 0.0}\n",
    "variable_params = {\n",
    "    \"homophily\": range(1, 9),\n",
    "    \"pop_weights\": pop_weights_tuples,\n",
    "}\n",
    "\n",
    "\n",
    "# fixed_params = {\"height\": 100, \"width\": 100, \"density\": 0.97, \"fixed_areas_pc\": 0.0, \"N\":3, \"pop_weights\":[1/3,1/3,1/3]}\n",
    "# variable_params = {\n",
    "#     \"homophily\": range(1, 9),\n",
    "# }\n",
    "\n",
    "batch_run = BatchRunner(\n",
    "    Schelling,\n",
    "    variable_params,\n",
    "    fixed_params,\n",
    "    iterations=1,\n",
    "    max_steps=100,\n",
    "    model_reporters={\"total_avg_cluster_size\": lambda m: m.total_avg_cluster_size}\n",
    ")\n",
    "\n",
    "\n",
    "batch_run.run_all()\n",
    "\n",
    "df = batch_run.get_model_vars_dataframe()"
   ]
  },
  {
   "cell_type": "code",
   "execution_count": 14,
   "metadata": {},
   "outputs": [],
   "source": [
    "df.to_csv('batch_runner_cluster_size.csv')"
   ]
  },
  {
   "cell_type": "code",
   "execution_count": 15,
   "metadata": {},
   "outputs": [
    {
     "name": "stdout",
     "output_type": "stream",
     "text": [
      "<class 'pandas.core.frame.DataFrame'>\n",
      "Index(['homophily', 'pop_weights', 'Run', 'total_avg_cluster_size', 'height',\n",
      "       'width', 'density', 'fixed_areas_pc'],\n",
      "      dtype='object')\n"
     ]
    }
   ],
   "source": [
    "print(type(df))\n",
    "print(df.keys())"
   ]
  },
  {
   "cell_type": "code",
   "execution_count": 48,
   "metadata": {},
   "outputs": [
    {
     "data": {
      "image/png": "[encoded data removed]",
      "text/plain": [
       "<Figure size 640x480 with 2 Axes>"
      ]
     },
     "metadata": {},
     "output_type": "display_data"
    }
   ],
   "source": [
    "import numpy as np\n",
    "\n",
    "df.head()\n",
    "# df_end = df[df[\"Run\"] == 63].copy()\n",
    "# df_end.head(5)\n",
    "df[\"N\"] = 1 / df[\"pop_weights\"].str[0]\n",
    "df[\"N\"] = df[\"N\"].astype(int)\n",
    "\n",
    "\n",
    "\n",
    "\n",
    "# Filter the DataFrame to keep only the rows with homophily from 3 to 7\n",
    "filtered_df = df[(df[\"homophily\"] >= 1) & (df[\"homophily\"] <= 8)]\n",
    "\n",
    "# Extract the filtered values\n",
    "homophily = filtered_df[\"homophily\"]\n",
    "N = filtered_df[\"N\"]\n",
    "total_avg_cluster_size = filtered_df[\"total_avg_cluster_size\"]\n",
    "\n",
    "\n",
    "\n",
    "# # Convert the columns to numpy arrays\n",
    "# homophily = df[\"homophily\"].values\n",
    "# N = df[\"N\"].values\n",
    "# total_avg_cluster_size = df[\"total_avg_cluster_size\"].values\n",
    "\n",
    "# Determine unique values and their corresponding indices\n",
    "unique_homophily = np.unique(homophily)\n",
    "unique_N = np.unique(N)\n",
    "\n",
    "# Create a grid of zeros for the heatmap\n",
    "heatmap = np.zeros((len(unique_N), len(unique_homophily)))\n",
    "\n",
    "# Fill the heatmap with the total_avg_cluster_size values\n",
    "for i, h in enumerate(unique_homophily):\n",
    "    for j, n in enumerate(unique_N):\n",
    "        mask = (homophily == h) & (N == n)\n",
    "        if np.any(mask):\n",
    "            heatmap[j, i] = total_avg_cluster_size.values[mask][0]\n",
    "\n",
    "# Create the plot\n",
    "fig, ax = plt.subplots()\n",
    "im = ax.imshow(heatmap, origin='lower', cmap=\"viridis\")\n",
    "\n",
    "# Set the ticks and labels for x-axis and y-axis\n",
    "ax.set_xticks(np.arange(len(unique_homophily)))\n",
    "ax.set_yticks(np.arange(len(unique_N)))\n",
    "ax.set_xticklabels(unique_homophily)\n",
    "ax.set_yticklabels(unique_N)\n",
    "\n",
    "# Add a colorbar\n",
    "cbar = ax.figure.colorbar(im, ax=ax)\n",
    "cbar.set_label(\"Total Avg Cluster Size\")\n",
    "\n",
    "# Set labels and title\n",
    "ax.set_xlabel(\"homophily\")\n",
    "ax.set_ylabel(\"N\")\n",
    "ax.set_title(r\"Total Avg Cluster Size for equal subpopulations $N$\")\n",
    "\n",
    "# Rotate x-axis tick labels if needed\n",
    "plt.setp(ax.get_xticklabels(), rotation=45, ha=\"right\")\n",
    "\n",
    "plt.savefig('cluster_size_heatmap.png', dpi = 300)\n",
    "# Show the plot\n",
    "plt.show()"
   ]
  },
  {
   "cell_type": "code",
   "execution_count": 15,
   "metadata": {},
   "outputs": [],
   "source": [
    "df = batch_run.get_model_vars_dataframe()"
   ]
  },
  {
   "cell_type": "code",
   "execution_count": 16,
   "metadata": {},
   "outputs": [
    {
     "data": {
      "image/png": "[encoded data removed]",
      "text/plain": [
       "<Figure size 640x480 with 1 Axes>"
      ]
     },
     "metadata": {},
     "output_type": "display_data"
    }
   ],
   "source": [
    "plt.scatter(df.homophily, df.Segregated_Agents)\n",
    "plt.grid(True)"
   ]
  }
 ],
 "metadata": {
  "kernelspec": {
   "display_name": "Python 3 (ipykernel)",
   "language": "python",
   "name": "python3"
  },
  "language_info": {
   "codemirror_mode": {
    "name": "ipython",
    "version": 3
   },
   "file_extension": ".py",
   "mimetype": "text/x-python",
   "name": "python",
   "nbconvert_exporter": "python",
   "pygments_lexer": "ipython3",
   "version": "3.9.6"
  },
  "widgets": {
   "state": {},
   "version": "1.1.2"
  }
 },
 "nbformat": 4,
 "nbformat_minor": 1
}
