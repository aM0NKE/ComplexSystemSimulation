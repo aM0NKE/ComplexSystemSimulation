{
 "cells": [
  {
   "cell_type": "code",
   "execution_count": 13,
   "id": "e5cc70be",
   "metadata": {},
   "outputs": [],
   "source": [
    "import numpy as np\n",
    "from scipy.optimize import curve_fit\n",
    "import random\n",
    "\n",
    "%matplotlib inline\n",
    "\n",
    "from model import Schelling"
   ]
  },
  {
   "cell_type": "code",
   "execution_count": 18,
   "id": "81f34a57",
   "metadata": {},
   "outputs": [
    {
     "name": "stdout",
     "output_type": "stream",
     "text": [
      "0.0\n"
     ]
    }
   ],
   "source": [
    "model = Schelling(size=100, density=0.97, fixed_areas_pc=0.0, pop_weights=(0.6,0.4), homophily=2, cluster_threshold=4, alpha=5, stopping_threshold=5)\n",
    "print(model.total_avg_cluster_size)"
   ]
  },
  {
   "cell_type": "code",
   "execution_count": 19,
   "id": "83c70661",
   "metadata": {},
   "outputs": [
    {
     "name": "stdout",
     "output_type": "stream",
     "text": [
      "17\n"
     ]
    }
   ],
   "source": [
    "# Running the model for a maximum amount of steps\n",
    "while model.running and model.schedule.steps < 100:\n",
    "    model.step()\n",
    "print(model.schedule.steps)"
   ]
  },
  {
   "cell_type": "code",
   "execution_count": 20,
   "id": "ed04f71f",
   "metadata": {},
   "outputs": [],
   "source": [
    "def MoransI(model):\n",
    "    \n",
    "    weight = model.pop_weights[1]\n",
    "    N_tot = model.size*model.size*model.density\n",
    "    \n",
    "    a = 0\n",
    "    b = 0\n",
    "    c = 0\n",
    "    \n",
    "    for cell1 in model.grid.coord_iter():\n",
    "        agent1, x1, y1 = cell1\n",
    "        \n",
    "        # Check whether content of cell is not None\n",
    "        if agent1 == None:\n",
    "                continue\n",
    "        \n",
    "        # Calculating the single sum below the division (c)       \n",
    "        if agent1.type == 0:\n",
    "            p = 1\n",
    "        else:\n",
    "            p = 0\n",
    "        c += (p - weight)**2\n",
    "        \n",
    "        for cell2 in model.grid.coord_iter():\n",
    "            agent2, x2, y2 = cell2\n",
    "            \n",
    "            # Check whether content of cell is not None\n",
    "            if agent2 == None:\n",
    "                continue\n",
    "            \n",
    "            # Check whether agent1 and agent2 are neighbors\n",
    "            if (np.sqrt((x1-x2)**2)>1 or np.sqrt((x1-x2)**2)==0) or (np.sqrt((y1-y2)**2)>1 or np.sqrt((y1-y2)**2)==0):\n",
    "                continue\n",
    "            \n",
    "            # Calculating the sums\n",
    "            a += (agent1.type - weight)*(agent2.type - weight)\n",
    "            b += 1\n",
    "    \n",
    "    MoransI = (N_tot/b)*(a/c)\n",
    "    return MoransI"
   ]
  },
  {
   "cell_type": "code",
   "execution_count": 21,
   "id": "e270f27b",
   "metadata": {},
   "outputs": [
    {
     "data": {
      "text/plain": [
       "0.04525996274530163"
      ]
     },
     "execution_count": 21,
     "metadata": {},
     "output_type": "execute_result"
    }
   ],
   "source": [
    "MoransI(model)"
   ]
  },
  {
   "cell_type": "code",
   "execution_count": null,
   "id": "34719d72",
   "metadata": {},
   "outputs": [],
   "source": []
  }
 ],
 "metadata": {
  "kernelspec": {
   "display_name": "Python 3 (ipykernel)",
   "language": "python",
   "name": "python3"
  },
  "language_info": {
   "codemirror_mode": {
    "name": "ipython",
    "version": 3
   },
   "file_extension": ".py",
   "mimetype": "text/x-python",
   "name": "python",
   "nbconvert_exporter": "python",
   "pygments_lexer": "ipython3",
   "version": "3.9.13"
  }
 },
 "nbformat": 4,
 "nbformat_minor": 5
}
