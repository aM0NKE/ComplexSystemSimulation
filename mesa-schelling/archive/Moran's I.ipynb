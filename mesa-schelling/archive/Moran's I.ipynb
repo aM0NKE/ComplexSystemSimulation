{
 "cells": [
  {
   "cell_type": "code",
   "execution_count": 23,
   "id": "e5cc70be",
   "metadata": {},
   "outputs": [],
   "source": [
    "import numpy as np\n",
    "from scipy.optimize import curve_fit\n",
    "import random\n",
    "\n",
    "%matplotlib inline\n",
    "\n",
    "from model import Schelling"
   ]
  },
  {
   "cell_type": "code",
   "execution_count": 24,
   "id": "81f34a57",
   "metadata": {},
   "outputs": [
    {
     "name": "stdout",
     "output_type": "stream",
     "text": [
      "0.0\n"
     ]
    }
   ],
   "source": [
    "model = Schelling(100, 100, 0.97, 0.0, [0.8, 0.1, 0.1], 3, 4)\n",
    "print(model.total_avg_cluster_size)"
   ]
  },
  {
   "cell_type": "code",
   "execution_count": 25,
   "id": "83c70661",
   "metadata": {},
   "outputs": [
    {
     "name": "stdout",
     "output_type": "stream",
     "text": [
      "100\n"
     ]
    }
   ],
   "source": [
    "# Running the model for a maximum amount of steps\n",
    "while model.running and model.schedule.steps < 100:\n",
    "    model.step()\n",
    "print(model.schedule.steps)"
   ]
  },
  {
   "cell_type": "code",
   "execution_count": 26,
   "id": "ed04f71f",
   "metadata": {},
   "outputs": [],
   "source": [
    "def MoransI(model, agent_type):\n",
    "    \n",
    "    weight = model.pop_weights[agent_type]\n",
    "    N_tot = model.width*model.height*model.density\n",
    "    \n",
    "    a = 0\n",
    "    b = 0\n",
    "    c = 0\n",
    "    \n",
    "    for cell1 in model.grid.coord_iter():\n",
    "        agent1, x1, y1 = cell1\n",
    "        \n",
    "        # Check whether content of cell is not None\n",
    "        if agent1 == None:\n",
    "                continue\n",
    "        \n",
    "        # Calculating the single sum below the division        \n",
    "        if agent1.type == agent_type:\n",
    "            p = 1\n",
    "        else:\n",
    "            p = 0\n",
    "        c += (p - weight)**2\n",
    "        \n",
    "        for cell2 in model.grid.coord_iter():\n",
    "            agent2, x2, y2 = cell2\n",
    "            \n",
    "            # Check whether content of cell is not None\n",
    "            if agent2 == None:\n",
    "                continue\n",
    "            \n",
    "            # Check whether agent1 and agent2 are neighbors\n",
    "            if (np.sqrt((x1-x2)**2)>1 or np.sqrt((x1-x2)**2)==0) or (np.sqrt((y1-y2)**2)>1 or np.sqrt((y1-y2)**2)==0):\n",
    "                continue\n",
    "            \n",
    "            # check that at least one of the agents is of the right type HIER GAAT HET FOUT\n",
    "            if agent1.type == agent_type:\n",
    "                p = 1\n",
    "            else:\n",
    "                p = 0\n",
    "            \n",
    "            if agent2.type == agent_type:\n",
    "                q = 1\n",
    "            else:\n",
    "                q = 0\n",
    "                continue\n",
    "            \n",
    "            # Calculating the sums\n",
    "            a += (p - weight)*(q - weight)\n",
    "            b += 1\n",
    "    \n",
    "    print(a, b, c)\n",
    "    \n",
    "    MoransI = (N_tot*a)/b*c\n",
    "    return MoransI"
   ]
  },
  {
   "cell_type": "code",
   "execution_count": 27,
   "id": "e270f27b",
   "metadata": {},
   "outputs": [
    {
     "name": "stdout",
     "output_type": "stream",
     "text": [
      "53.119999999992906 29718 1518.4399999998877\n"
     ]
    },
    {
     "data": {
      "text/plain": [
       "26327.39310047236"
      ]
     },
     "execution_count": 27,
     "metadata": {},
     "output_type": "execute_result"
    }
   ],
   "source": [
    "MoransI(model, 0)"
   ]
  },
  {
   "cell_type": "code",
   "execution_count": null,
   "id": "34719d72",
   "metadata": {},
   "outputs": [],
   "source": []
  }
 ],
 "metadata": {
  "kernelspec": {
   "display_name": "Python 3 (ipykernel)",
   "language": "python",
   "name": "python3"
  },
  "language_info": {
   "codemirror_mode": {
    "name": "ipython",
    "version": 3
   },
   "file_extension": ".py",
   "mimetype": "text/x-python",
   "name": "python",
   "nbconvert_exporter": "python",
   "pygments_lexer": "ipython3",
   "version": "3.9.13"
  }
 },
 "nbformat": 4,
 "nbformat_minor": 5
}
