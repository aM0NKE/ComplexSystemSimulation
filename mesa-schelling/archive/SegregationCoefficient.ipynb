{
 "cells": [
  {
   "cell_type": "code",
   "execution_count": 1,
   "id": "ad3cc38c",
   "metadata": {},
   "outputs": [],
   "source": [
    "import matplotlib.pyplot as plt\n",
    "import numpy as np\n",
    "from scipy.optimize import curve_fit\n",
    "import random\n",
    "\n",
    "%matplotlib inline\n",
    "\n",
    "from model import Schelling"
   ]
  },
  {
   "cell_type": "code",
   "execution_count": 2,
   "id": "9baa995b",
   "metadata": {},
   "outputs": [
    {
     "name": "stdout",
     "output_type": "stream",
     "text": [
      "0.0\n"
     ]
    }
   ],
   "source": [
    "model = Schelling(100, 100, 0.97, 0.0, [0.8, 0.1, 0.1], 3, 10)\n",
    "print(model.total_avg_cluster_size)"
   ]
  },
  {
   "cell_type": "code",
   "execution_count": 3,
   "id": "deb8d547",
   "metadata": {},
   "outputs": [
    {
     "name": "stdout",
     "output_type": "stream",
     "text": [
      "100\n"
     ]
    }
   ],
   "source": [
    "# Running the model for a maximum amount of steps\n",
    "while model.running and model.schedule.steps < 100:\n",
    "    model.step()\n",
    "print(model.schedule.steps)"
   ]
  },
  {
   "cell_type": "code",
   "execution_count": 4,
   "id": "781362d2",
   "metadata": {},
   "outputs": [],
   "source": [
    "def WeightedAverage(model):\n",
    "    \"\"\"\n",
    "    Calculates the weighted average of cluster size. N.B: This one works only for populations with equal weights.\n",
    "    \"\"\"\n",
    "    a = 0\n",
    "    \n",
    "    # Squaring the cluster sizes\n",
    "    for i in model.cluster_sizes:\n",
    "        for j in range(len(model.cluster_sizes[i])):\n",
    "            a += model.cluster_sizes[i][j]**2\n",
    "    \n",
    "    # Finding the normalized weighted average\n",
    "    s = (model.N/(model.grid.width*model.grid.height*model.density)**2)*a\n",
    "    \n",
    "    return s"
   ]
  },
  {
   "cell_type": "code",
   "execution_count": 5,
   "id": "82780c64",
   "metadata": {},
   "outputs": [
    {
     "data": {
      "text/plain": [
       "2.0626244446806252"
      ]
     },
     "execution_count": 5,
     "metadata": {},
     "output_type": "execute_result"
    }
   ],
   "source": [
    "WeightedAverage(model)"
   ]
  },
  {
   "cell_type": "code",
   "execution_count": 6,
   "id": "8472adbe",
   "metadata": {
    "scrolled": true
   },
   "outputs": [
    {
     "name": "stdout",
     "output_type": "stream",
     "text": [
      "{0: array([8043.]), 1: array([21., 12.]), 2: array([10., 12., 10.])}\n"
     ]
    }
   ],
   "source": [
    "print(model.cluster_sizes)"
   ]
  },
  {
   "cell_type": "code",
   "execution_count": 9,
   "id": "7af32217",
   "metadata": {},
   "outputs": [],
   "source": [
    "def WeightedAverage_difpops(model):\n",
    "    \"\"\"\n",
    "    Calculates the weighted average of cluster size. Works for different pop weights.\n",
    "    \"\"\"\n",
    "    s = 0\n",
    "    \n",
    "    for i in model.cluster_sizes:\n",
    "        a = 0\n",
    "        \n",
    "        # Squaring the cluster sizes and summing them per population\n",
    "        for j in range(len(model.cluster_sizes[i])):\n",
    "            a += model.cluster_sizes[i][j]**2\n",
    "        \n",
    "        # Finding the normalized weighted average for population i and adding them up\n",
    "        s += (1/(model.grid.width*model.grid.height*model.pop_weights[i])**2)*a\n",
    "    \n",
    "    return s/model.N  "
   ]
  },
  {
   "cell_type": "code",
   "execution_count": 10,
   "id": "1861611f",
   "metadata": {},
   "outputs": [
    {
     "data": {
      "text/plain": [
       "0.33723596354166663"
      ]
     },
     "execution_count": 10,
     "metadata": {},
     "output_type": "execute_result"
    }
   ],
   "source": [
    "WeightedAverage_difpops(model)"
   ]
  },
  {
   "cell_type": "code",
   "execution_count": 14,
   "id": "792bf40c",
   "metadata": {},
   "outputs": [
    {
     "name": "stdout",
     "output_type": "stream",
     "text": [
      "0.3381630515625\n"
     ]
    }
   ],
   "source": [
    "# Finding the Segregation coefficient\n",
    "a = 0\n",
    "\n",
    "for i in range(10):\n",
    "    model = Schelling(100, 100, 0.97, 0.0, [0.8, 0.1, 0.1], 3, 10)\n",
    "    \n",
    "    while model.running and model.schedule.steps < 100:\n",
    "        model.step()\n",
    "    a += WeightedAverage_difpops(model)\n",
    "\n",
    "SegCoef = a/10\n",
    "print(SegCoef)"
   ]
  },
  {
   "cell_type": "code",
   "execution_count": null,
   "id": "cadc2174",
   "metadata": {},
   "outputs": [],
   "source": []
  }
 ],
 "metadata": {
  "kernelspec": {
   "display_name": "Python 3 (ipykernel)",
   "language": "python",
   "name": "python3"
  },
  "language_info": {
   "codemirror_mode": {
    "name": "ipython",
    "version": 3
   },
   "file_extension": ".py",
   "mimetype": "text/x-python",
   "name": "python",
   "nbconvert_exporter": "python",
   "pygments_lexer": "ipython3",
   "version": "3.9.13"
  }
 },
 "nbformat": 4,
 "nbformat_minor": 5
}
